{
 "cells": [
  {
   "cell_type": "code",
   "execution_count": 1,
   "metadata": {},
   "outputs": [],
   "source": [
    "from applicability_domain import ApplicabilityDomain\n",
    "\n",
    "from sklearn.datasets import load_boston\n",
    "from sklearn.model_selection import train_test_split\n",
    "import pandas as pd\n",
    "import numpy as np"
   ]
  },
  {
   "cell_type": "code",
   "execution_count": 2,
   "metadata": {},
   "outputs": [],
   "source": [
    "boston = load_boston()\n",
    "X = pd.DataFrame(boston['data'], columns = boston['feature_names'])\n",
    "y = pd.Series(boston['target'], name = 'PRICE')\n",
    "\n",
    "X_train, X_test, y_train, y_test = train_test_split(X, y, test_size = 0.2, random_state = 334)"
   ]
  },
  {
   "cell_type": "code",
   "execution_count": 3,
   "metadata": {},
   "outputs": [
    {
     "data": {
      "text/plain": [
       "array([ True,  True,  True,  True,  True,  True,  True,  True,  True,\n",
       "        True,  True,  True,  True,  True,  True, False,  True,  True,\n",
       "        True,  True,  True, False,  True,  True, False, False,  True,\n",
       "        True,  True,  True,  True,  True,  True,  True,  True,  True,\n",
       "        True,  True,  True,  True,  True,  True,  True,  True,  True,\n",
       "        True,  True,  True,  True,  True,  True,  True,  True,  True,\n",
       "        True, False,  True,  True,  True,  True,  True,  True,  True,\n",
       "        True,  True,  True,  True, False, False,  True,  True, False,\n",
       "        True,  True, False,  True,  True,  True,  True,  True,  True,\n",
       "        True,  True,  True,  True,  True,  True,  True, False,  True,\n",
       "        True,  True,  True,  True,  True,  True,  True,  True,  True,\n",
       "        True,  True,  True,  True,  True,  True,  True,  True,  True,\n",
       "        True,  True,  True,  True,  True,  True,  True,  True,  True,\n",
       "        True,  True,  True,  True,  True,  True,  True,  True,  True,\n",
       "        True,  True,  True,  True,  True,  True,  True,  True,  True,\n",
       "        True,  True,  True,  True, False,  True,  True,  True, False,\n",
       "        True,  True,  True,  True,  True,  True,  True, False,  True,\n",
       "        True,  True,  True,  True,  True,  True,  True,  True,  True,\n",
       "        True, False,  True, False,  True,  True,  True, False,  True,\n",
       "        True, False,  True,  True,  True,  True,  True,  True,  True,\n",
       "        True,  True,  True,  True,  True,  True, False,  True,  True,\n",
       "        True,  True,  True,  True,  True,  True,  True,  True,  True,\n",
       "        True, False,  True,  True,  True,  True,  True,  True, False,\n",
       "        True,  True,  True,  True,  True,  True,  True,  True,  True,\n",
       "        True,  True,  True, False,  True,  True,  True,  True,  True,\n",
       "        True,  True,  True,  True,  True,  True,  True,  True,  True,\n",
       "        True, False,  True,  True,  True, False,  True,  True,  True,\n",
       "       False,  True,  True,  True,  True,  True,  True,  True,  True,\n",
       "        True,  True,  True,  True,  True, False,  True,  True,  True,\n",
       "        True,  True,  True, False,  True,  True, False,  True,  True,\n",
       "        True, False,  True,  True,  True,  True, False,  True,  True,\n",
       "        True,  True,  True,  True,  True,  True,  True,  True,  True,\n",
       "        True,  True,  True,  True,  True,  True,  True,  True,  True,\n",
       "        True,  True,  True,  True,  True,  True, False,  True, False,\n",
       "        True,  True,  True,  True,  True,  True,  True,  True,  True,\n",
       "        True,  True,  True,  True,  True,  True,  True,  True,  True,\n",
       "        True,  True,  True,  True,  True,  True,  True,  True,  True,\n",
       "        True,  True,  True,  True,  True, False,  True, False,  True,\n",
       "        True,  True,  True,  True,  True,  True,  True, False,  True,\n",
       "        True, False,  True,  True,  True,  True,  True,  True, False,\n",
       "        True, False,  True,  True,  True,  True,  True, False,  True,\n",
       "       False,  True,  True,  True,  True,  True,  True,  True,  True,\n",
       "        True,  True,  True,  True,  True,  True,  True,  True,  True,\n",
       "        True,  True,  True,  True,  True,  True,  True,  True,  True,\n",
       "        True,  True,  True,  True,  True, False, False,  True])"
      ]
     },
     "execution_count": 3,
     "metadata": {},
     "output_type": "execute_result"
    }
   ],
   "source": [
    "AD = ApplicabilityDomain(k = 5, alpha = 0.9)\n",
    "\n",
    "boolean_train, boolean_test = AD.is_inside(X_train, X_test)\n",
    "boolean_train"
   ]
  },
  {
   "cell_type": "code",
   "execution_count": 4,
   "metadata": {},
   "outputs": [
    {
     "data": {
      "text/plain": [
       "array([ True,  True,  True,  True,  True,  True,  True,  True,  True,\n",
       "        True,  True,  True,  True,  True,  True, False,  True,  True,\n",
       "        True,  True,  True, False,  True,  True, False, False,  True,\n",
       "        True,  True,  True,  True,  True,  True,  True,  True,  True,\n",
       "        True,  True,  True,  True,  True,  True,  True,  True,  True,\n",
       "        True,  True,  True,  True,  True,  True,  True,  True,  True,\n",
       "        True, False,  True,  True,  True,  True,  True,  True,  True,\n",
       "        True,  True,  True,  True, False, False,  True,  True, False,\n",
       "        True,  True, False,  True,  True,  True,  True,  True,  True,\n",
       "        True,  True,  True,  True,  True,  True,  True, False,  True,\n",
       "        True,  True,  True,  True,  True,  True,  True,  True,  True,\n",
       "        True,  True,  True,  True,  True,  True,  True,  True,  True,\n",
       "        True,  True,  True,  True,  True,  True,  True,  True,  True,\n",
       "        True,  True,  True,  True,  True,  True,  True,  True,  True,\n",
       "        True,  True,  True,  True,  True,  True,  True,  True,  True,\n",
       "        True,  True,  True,  True, False,  True,  True,  True, False,\n",
       "        True,  True,  True,  True,  True,  True,  True, False,  True,\n",
       "        True,  True,  True,  True,  True,  True,  True,  True,  True,\n",
       "        True, False,  True, False,  True,  True,  True, False,  True,\n",
       "        True, False,  True,  True,  True,  True,  True,  True,  True,\n",
       "        True,  True,  True,  True,  True,  True, False,  True,  True,\n",
       "        True,  True,  True,  True,  True,  True,  True,  True,  True,\n",
       "        True, False,  True,  True,  True,  True,  True,  True, False,\n",
       "        True,  True,  True,  True,  True,  True,  True,  True,  True,\n",
       "        True,  True,  True, False,  True,  True,  True,  True,  True,\n",
       "        True,  True,  True,  True,  True,  True,  True,  True,  True,\n",
       "        True, False,  True,  True,  True, False,  True,  True,  True,\n",
       "       False,  True,  True,  True,  True,  True,  True,  True,  True,\n",
       "        True,  True,  True,  True,  True, False,  True,  True,  True,\n",
       "        True,  True,  True, False,  True,  True, False,  True,  True,\n",
       "        True, False,  True,  True,  True,  True, False,  True,  True,\n",
       "        True,  True,  True,  True,  True,  True,  True,  True,  True,\n",
       "        True,  True,  True,  True,  True,  True,  True,  True,  True,\n",
       "        True,  True,  True,  True,  True,  True, False,  True, False,\n",
       "        True,  True,  True,  True,  True,  True,  True,  True,  True,\n",
       "        True,  True,  True,  True,  True,  True,  True,  True,  True,\n",
       "        True,  True,  True,  True,  True,  True,  True,  True,  True,\n",
       "        True,  True,  True,  True,  True, False,  True, False,  True,\n",
       "        True,  True,  True,  True,  True,  True,  True, False,  True,\n",
       "        True, False,  True,  True,  True,  True,  True,  True, False,\n",
       "        True, False,  True,  True,  True,  True,  True, False,  True,\n",
       "       False,  True,  True,  True,  True,  True,  True,  True,  True,\n",
       "        True,  True,  True,  True,  True,  True,  True,  True,  True,\n",
       "        True,  True,  True,  True,  True,  True,  True,  True,  True,\n",
       "        True,  True,  True,  True,  True, False, False,  True])"
      ]
     },
     "execution_count": 4,
     "metadata": {},
     "output_type": "execute_result"
    }
   ],
   "source": [
    "boolean_train"
   ]
  },
  {
   "cell_type": "code",
   "execution_count": 5,
   "metadata": {},
   "outputs": [
    {
     "data": {
      "text/plain": [
       "array([ True,  True,  True, False,  True,  True, False,  True, False,\n",
       "        True,  True,  True,  True, False, False,  True,  True,  True,\n",
       "       False,  True,  True,  True,  True,  True,  True,  True,  True,\n",
       "        True,  True,  True, False, False,  True,  True,  True,  True,\n",
       "        True,  True,  True,  True,  True, False,  True, False,  True,\n",
       "        True, False,  True, False,  True,  True,  True,  True,  True,\n",
       "        True,  True,  True,  True, False,  True,  True,  True,  True,\n",
       "        True,  True,  True,  True,  True,  True,  True,  True,  True,\n",
       "        True,  True, False, False,  True,  True,  True,  True,  True,\n",
       "       False, False,  True,  True,  True,  True,  True,  True,  True,\n",
       "       False,  True,  True,  True, False,  True, False, False,  True,\n",
       "       False,  True, False])"
      ]
     },
     "execution_count": 5,
     "metadata": {},
     "output_type": "execute_result"
    }
   ],
   "source": [
    "boolean_test"
   ]
  },
  {
   "cell_type": "code",
   "execution_count": 6,
   "metadata": {},
   "outputs": [],
   "source": [
    "rd_train, rd_test = AD.get_ratio_distance(X_train, X_test)"
   ]
  },
  {
   "cell_type": "code",
   "execution_count": 7,
   "metadata": {},
   "outputs": [
    {
     "data": {
      "text/plain": [
       "array([0.62315508, 0.94059519, 0.31742562, 0.49192105, 0.58453019,\n",
       "       0.63904343, 0.59455812, 0.60225135, 0.45817228, 0.652712  ,\n",
       "       0.45834776, 0.64066032, 0.63309638, 0.49294828, 0.60799457,\n",
       "       1.43854939, 0.2923563 , 0.45186202, 0.65277755, 0.51015006,\n",
       "       0.77547809, 1.33503381, 0.64475097, 0.64265034, 1.26636097,\n",
       "       1.390723  , 0.37715221, 0.97222753, 0.85410093, 0.58565412,\n",
       "       0.3228659 , 0.42109022, 0.29095446, 0.52703988, 0.59846777,\n",
       "       0.61294091, 0.43455909, 0.29555491, 0.62882974, 0.69463586,\n",
       "       0.58971798, 0.9488652 , 0.69078034, 0.41820941, 0.75771612,\n",
       "       0.52478767, 0.51529609, 0.66687105, 0.2806634 , 0.41266949,\n",
       "       0.52399976, 0.52294133, 0.64931266, 0.35794588, 0.77645054,\n",
       "       1.19745587, 0.51258141, 0.6882776 , 0.41763217, 0.66581116,\n",
       "       0.33928924, 0.47398375, 0.31255369, 0.38803055, 0.90614569,\n",
       "       0.76980572, 0.4825028 , 1.07037772, 1.47630568, 0.85438574,\n",
       "       0.41894713, 1.71768931, 0.61663874, 0.79842779, 2.02186714,\n",
       "       0.27380139, 0.58364582, 0.49427456, 0.77918359, 0.6542875 ,\n",
       "       0.45494922, 0.52442791, 0.30522086, 0.59504851, 0.44290859,\n",
       "       0.70746785, 0.46177304, 0.77829702, 1.26997089, 0.49020352,\n",
       "       0.85772258, 0.55065367, 0.47430842, 0.46394358, 0.66354576,\n",
       "       0.38707303, 0.71207919, 0.43687941, 0.46864765, 0.45716485,\n",
       "       0.69869575, 0.69814311, 0.46178157, 0.75054501, 0.72859262,\n",
       "       0.48711463, 0.41767545, 0.82957366, 0.7055569 , 0.80393885,\n",
       "       0.90329883, 0.80977505, 0.44624285, 0.64079417, 0.86073641,\n",
       "       0.64199579, 0.67404399, 0.52168728, 0.42785725, 0.75482986,\n",
       "       0.32082973, 0.71161465, 0.5710667 , 0.68068146, 0.72305202,\n",
       "       0.31735165, 0.4851324 , 0.52117426, 0.52753958, 1.        ,\n",
       "       0.58659285, 0.46316235, 0.56725061, 0.74512072, 0.61450041,\n",
       "       0.69379532, 0.42496761, 0.54738093, 0.4108437 , 1.0800519 ,\n",
       "       0.327494  , 0.43862049, 0.68525977, 1.65689147, 0.2635529 ,\n",
       "       0.42166627, 0.47883943, 0.44829726, 0.82318608, 0.39476076,\n",
       "       0.51880659, 1.42528426, 0.36973583, 0.63793819, 0.3726688 ,\n",
       "       0.35861342, 0.81034616, 0.63293352, 0.36523856, 0.32707111,\n",
       "       0.45732397, 0.54285486, 0.76213941, 1.17695606, 0.65123559,\n",
       "       1.2842699 , 0.5818652 , 0.47239659, 0.81984594, 1.02288863,\n",
       "       0.40473633, 0.70823276, 1.59855835, 0.59822284, 0.84395232,\n",
       "       0.37717351, 0.47744225, 0.53721767, 0.63388121, 0.46616749,\n",
       "       0.8304474 , 0.31246124, 0.81903339, 0.39096714, 0.75676323,\n",
       "       0.4347701 , 1.57842981, 0.62881236, 0.77752142, 0.42080021,\n",
       "       0.65981334, 0.45159962, 0.40012813, 0.46757325, 0.52474676,\n",
       "       0.40179402, 0.34920343, 0.72709683, 0.45329511, 2.97531842,\n",
       "       0.56225632, 0.70647424, 0.43143048, 0.36310041, 0.66450221,\n",
       "       0.87392762, 1.29285811, 0.61071201, 0.57542587, 0.42637978,\n",
       "       0.47319308, 0.39249842, 0.57220284, 0.29235175, 0.40721034,\n",
       "       0.43923961, 0.54904384, 0.68142792, 0.49055464, 1.32191422,\n",
       "       0.44576174, 0.88360509, 0.51373991, 0.44717227, 0.7894459 ,\n",
       "       0.78237556, 0.84002084, 0.41148729, 0.38044303, 0.60685215,\n",
       "       0.65737658, 0.82473298, 0.49854487, 0.54130263, 0.74846935,\n",
       "       1.38567377, 0.40491313, 0.63935071, 0.55036161, 2.19364561,\n",
       "       0.65787253, 0.512366  , 0.79731694, 1.27339253, 0.92096615,\n",
       "       0.67528841, 0.45970565, 0.73542877, 0.27635217, 0.70256082,\n",
       "       0.2833323 , 0.57591828, 0.34899056, 0.49142735, 0.54657058,\n",
       "       0.38117994, 0.91876858, 1.10521524, 0.43976373, 0.46063378,\n",
       "       0.36035825, 0.6255079 , 0.53136355, 0.6881813 , 1.53355628,\n",
       "       0.44116676, 0.58781086, 1.22906129, 0.51121039, 0.68205006,\n",
       "       0.75092859, 1.99940268, 0.5766305 , 0.4204063 , 0.31980079,\n",
       "       0.46339624, 1.08528521, 0.7924398 , 0.52853075, 0.33342713,\n",
       "       0.46928397, 0.63912528, 0.6874836 , 0.57220915, 0.40182252,\n",
       "       0.38426484, 0.44623262, 0.64152724, 0.37847602, 0.43110111,\n",
       "       0.57026585, 0.73556361, 0.7419746 , 0.75286231, 0.45543771,\n",
       "       0.43595704, 0.7471671 , 0.58312673, 0.61771435, 0.79327915,\n",
       "       0.93238621, 0.40836367, 0.7579571 , 1.91673062, 0.94167192,\n",
       "       1.33411436, 0.48487912, 0.42526052, 0.37682262, 0.52582954,\n",
       "       0.41325184, 0.90374227, 0.37344799, 0.62743658, 0.37286196,\n",
       "       0.47714233, 0.69652386, 0.4821003 , 0.50214012, 0.32840711,\n",
       "       0.33989109, 0.48267427, 0.57059598, 0.53557311, 0.43328592,\n",
       "       0.55143668, 0.49746609, 0.34902822, 0.48729523, 0.63396066,\n",
       "       0.417543  , 0.75025941, 0.73015419, 0.48870154, 0.55222234,\n",
       "       0.64508946, 0.42717235, 0.67677337, 1.48767532, 0.46818679,\n",
       "       1.15183401, 0.39705495, 0.41588332, 0.81641063, 0.34465966,\n",
       "       0.57216433, 0.33226984, 0.37056367, 0.3040685 , 1.03912016,\n",
       "       0.43273648, 0.50858046, 1.98449537, 0.46213518, 0.72490995,\n",
       "       0.9914775 , 0.3250874 , 0.45983381, 0.90247057, 1.89947548,\n",
       "       0.86613368, 2.184181  , 0.57035142, 0.65266104, 0.57874423,\n",
       "       0.69777332, 0.52555188, 1.20078543, 0.59664847, 1.27172829,\n",
       "       0.24872113, 0.35809268, 0.71652341, 0.89590397, 0.66887101,\n",
       "       0.44744569, 0.64115996, 0.3591507 , 0.41197759, 0.6556328 ,\n",
       "       0.50903816, 0.93121004, 0.44102129, 0.38449236, 0.67831949,\n",
       "       0.52975085, 0.99321652, 0.32537661, 0.27255694, 0.61738834,\n",
       "       0.5687542 , 0.91170407, 0.31310385, 0.43317871, 0.53123774,\n",
       "       0.57691901, 0.47148524, 0.3608843 , 0.52033769, 0.3737997 ,\n",
       "       0.46720367, 1.33547801, 1.0953456 , 0.36678774])"
      ]
     },
     "execution_count": 7,
     "metadata": {},
     "output_type": "execute_result"
    }
   ],
   "source": [
    "rd_train"
   ]
  },
  {
   "cell_type": "code",
   "execution_count": 8,
   "metadata": {},
   "outputs": [
    {
     "data": {
      "text/plain": [
       "array([0.67270132, 0.63238405, 0.80701968, 1.07999036, 0.72298805,\n",
       "       0.56994203, 1.06172834, 0.37703527, 1.46566559, 0.81219129,\n",
       "       0.69213884, 0.83758606, 0.80334288, 1.42601727, 1.02896106,\n",
       "       0.6909648 , 0.71314929, 0.46906575, 1.46322346, 0.98194221,\n",
       "       0.79274952, 0.72787545, 0.7035792 , 0.69680172, 0.49267627,\n",
       "       0.60405839, 0.38795775, 0.92824911, 0.32621051, 0.60257517,\n",
       "       1.15942699, 1.08337745, 0.75919968, 0.5597097 , 0.62127226,\n",
       "       0.50344194, 0.78546588, 0.92211309, 0.81225198, 0.47610945,\n",
       "       0.38845792, 1.15263062, 0.71396021, 1.56334385, 0.3592316 ,\n",
       "       0.83381068, 1.8831938 , 0.51324254, 1.07978455, 0.76495478,\n",
       "       0.99365352, 0.60828437, 0.69932478, 0.64610152, 0.76109175,\n",
       "       0.79033218, 0.78990057, 0.75195267, 1.08239912, 0.85637134,\n",
       "       0.49883799, 0.85359188, 0.67048375, 0.85432566, 0.55708414,\n",
       "       0.79040952, 0.79563948, 0.38411694, 0.90966768, 0.62165709,\n",
       "       0.71880028, 0.63468694, 0.68945655, 0.91148401, 1.00121284,\n",
       "       1.35720166, 0.84871978, 0.47109803, 0.9133714 , 0.50666014,\n",
       "       0.94603649, 1.23211388, 1.16526861, 0.69295718, 0.77302922,\n",
       "       0.77634092, 0.70998834, 0.54295073, 0.54874426, 0.74534925,\n",
       "       1.30151954, 0.34569884, 0.61283107, 0.30908524, 1.50221316,\n",
       "       0.522561  , 1.40371598, 1.01195907, 0.67620667, 1.01782017,\n",
       "       0.52590299, 1.06657562])"
      ]
     },
     "execution_count": 8,
     "metadata": {},
     "output_type": "execute_result"
    }
   ],
   "source": [
    "rd_test"
   ]
  },
  {
   "cell_type": "code",
   "execution_count": 9,
   "metadata": {},
   "outputs": [
    {
     "data": {
      "text/plain": [
       "True"
      ]
     },
     "execution_count": 9,
     "metadata": {},
     "output_type": "execute_result"
    }
   ],
   "source": [
    "np.all((rd_train <= 1) == boolean_train)"
   ]
  },
  {
   "cell_type": "code",
   "execution_count": 10,
   "metadata": {},
   "outputs": [
    {
     "data": {
      "text/plain": [
       "True"
      ]
     },
     "execution_count": 10,
     "metadata": {},
     "output_type": "execute_result"
    }
   ],
   "source": [
    "np.all((rd_test <= 1) == boolean_test)"
   ]
  }
 ],
 "metadata": {
  "kernelspec": {
   "display_name": "Python 3",
   "language": "python",
   "name": "python3"
  },
  "language_info": {
   "codemirror_mode": {
    "name": "ipython",
    "version": 3
   },
   "file_extension": ".py",
   "mimetype": "text/x-python",
   "name": "python",
   "nbconvert_exporter": "python",
   "pygments_lexer": "ipython3",
   "version": "3.7.6"
  }
 },
 "nbformat": 4,
 "nbformat_minor": 4
}
